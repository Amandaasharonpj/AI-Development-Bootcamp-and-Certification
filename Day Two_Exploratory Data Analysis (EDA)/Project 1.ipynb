{
 "cells": [
  {
   "cell_type": "markdown",
   "id": "4c92a67e",
   "metadata": {},
   "source": [
    "### Project : Exploratory Data Analysis on a Real Dataset \n",
    "Task : Perform exploratory data analysis on the Titanic dataset to understand the survival rate across various features like age, gender, and class."
   ]
  },
  {
   "cell_type": "markdown",
   "id": "fc2b133d",
   "metadata": {},
   "source": [
    "Step 1 : Load the Titanic dataset using Pandas "
   ]
  },
  {
   "cell_type": "code",
   "execution_count": 2,
   "id": "06ce4c7b",
   "metadata": {},
   "outputs": [
    {
     "name": "stdout",
     "output_type": "stream",
     "text": [
      "   Passengerid   Age     Fare  Sex  sibsp  zero  zero.1  zero.2  zero.3  \\\n",
      "0            1  22.0   7.2500    0      1     0       0       0       0   \n",
      "1            2  38.0  71.2833    1      1     0       0       0       0   \n",
      "2            3  26.0   7.9250    1      0     0       0       0       0   \n",
      "3            4  35.0  53.1000    1      1     0       0       0       0   \n",
      "4            5  35.0   8.0500    0      0     0       0       0       0   \n",
      "\n",
      "   zero.4  ...  zero.12  zero.13  zero.14  Pclass  zero.15  zero.16  Embarked  \\\n",
      "0       0  ...        0        0        0       3        0        0       2.0   \n",
      "1       0  ...        0        0        0       1        0        0       0.0   \n",
      "2       0  ...        0        0        0       3        0        0       2.0   \n",
      "3       0  ...        0        0        0       1        0        0       2.0   \n",
      "4       0  ...        0        0        0       3        0        0       2.0   \n",
      "\n",
      "   zero.17  zero.18  2urvived  \n",
      "0        0        0         0  \n",
      "1        0        0         1  \n",
      "2        0        0         1  \n",
      "3        0        0         1  \n",
      "4        0        0         0  \n",
      "\n",
      "[5 rows x 28 columns]\n"
     ]
    }
   ],
   "source": [
    "import pandas as pd \n",
    "import matplotlib.pyplot as plt\n",
    "import seaborn as sns\n",
    "\n",
    "data = pd.read_csv(\"Titanic Data.csv\")\n",
    "data.columns = data.columns.str.strip()  \n",
    "print(data.head())"
   ]
  },
  {
   "cell_type": "markdown",
   "id": "86374d07",
   "metadata": {},
   "source": [
    "Step 2 : Clean the data by handling missing values "
   ]
  },
  {
   "cell_type": "code",
   "execution_count": 3,
   "id": "13375fab",
   "metadata": {},
   "outputs": [],
   "source": [
    "# Typo in the head - Rename the column\n",
    "data.rename(columns={'2urvived': 'Survived'}, inplace=True)"
   ]
  },
  {
   "cell_type": "code",
   "execution_count": 4,
   "id": "cb188850",
   "metadata": {},
   "outputs": [
    {
     "name": "stdout",
     "output_type": "stream",
     "text": [
      "\n",
      "Missing values:\n",
      "Passengerid    0\n",
      "Age            0\n",
      "Fare           0\n",
      "Sex            0\n",
      "sibsp          0\n",
      "zero           0\n",
      "zero.1         0\n",
      "zero.2         0\n",
      "zero.3         0\n",
      "zero.4         0\n",
      "zero.5         0\n",
      "zero.6         0\n",
      "Parch          0\n",
      "zero.7         0\n",
      "zero.8         0\n",
      "zero.9         0\n",
      "zero.10        0\n",
      "zero.11        0\n",
      "zero.12        0\n",
      "zero.13        0\n",
      "zero.14        0\n",
      "Pclass         0\n",
      "zero.15        0\n",
      "zero.16        0\n",
      "Embarked       2\n",
      "zero.17        0\n",
      "zero.18        0\n",
      "Survived       0\n",
      "dtype: int64\n"
     ]
    }
   ],
   "source": [
    "print(\"\\nMissing values:\")\n",
    "print(data.isnull().sum())"
   ]
  },
  {
   "cell_type": "markdown",
   "id": "0994ee57",
   "metadata": {},
   "source": [
    "Step 3 : Explre the dataset "
   ]
  },
  {
   "cell_type": "code",
   "execution_count": 5,
   "id": "256dcf59",
   "metadata": {},
   "outputs": [
    {
     "name": "stdout",
     "output_type": "stream",
     "text": [
      "\n",
      "Survival Rate:\n",
      "0    0.738732\n",
      "1    0.261268\n",
      "Name: Survived, dtype: float64\n"
     ]
    }
   ],
   "source": [
    "#  Analyze survival rate\n",
    "print(\"\\nSurvival Rate:\")\n",
    "print(data['Survived'].value_counts(normalize=True))"
   ]
  },
  {
   "cell_type": "code",
   "execution_count": 6,
   "id": "8bb5649a",
   "metadata": {},
   "outputs": [
    {
     "name": "stdout",
     "output_type": "stream",
     "text": [
      "\n",
      "Survival Rate by Sex and Class:\n",
      "Sex  Pclass\n",
      "0    1         0.251397\n",
      "     2         0.099415\n",
      "     3         0.095335\n",
      "1    1         0.631944\n",
      "     2         0.660377\n",
      "     3         0.333333\n",
      "Name: Survived, dtype: float64\n"
     ]
    }
   ],
   "source": [
    "# Grouped survival by gender and class\n",
    "print(\"\\nSurvival Rate by Sex and Class:\")\n",
    "print(data.groupby(['Sex', 'Pclass'])['Survived'].mean())"
   ]
  },
  {
   "cell_type": "markdown",
   "id": "45c94996",
   "metadata": {},
   "source": [
    "Step 4 : Visualize the data"
   ]
  },
  {
   "cell_type": "code",
   "execution_count": 7,
   "id": "22ddd49b",
   "metadata": {},
   "outputs": [
    {
     "data": {
      "image/png": "[encoded data removed]",
      "text/plain": [
       "<Figure size 640x480 with 1 Axes>"
      ]
     },
     "metadata": {},
     "output_type": "display_data"
    }
   ],
   "source": [
    "sns.barplot(x='Sex', y='Survived', data=data)\n",
    "plt.title('Survival Rate by Gender')\n",
    "plt.show()"
   ]
  },
  {
   "cell_type": "markdown",
   "id": "e3fbfbb2",
   "metadata": {},
   "source": [
    "### Assignement \n",
    "Create a pie chart to visualize the proportion of passengers who survived vs. those who didn’t in the Titanic dataset."
   ]
  },
  {
   "cell_type": "code",
   "execution_count": 12,
   "id": "bd4b844e",
   "metadata": {},
   "outputs": [
    {
     "data": {
      "image/png": "[encoded data removed]",
      "text/plain": [
       "<Figure size 640x480 with 1 Axes>"
      ]
     },
     "metadata": {},
     "output_type": "display_data"
    }
   ],
   "source": [
    "# Count the number of survived (1) and not survived (0)\n",
    "survival_counts = data['Survived'].value_counts()\n",
    "\n",
    "labels = ['Not Survived', 'Survived']\n",
    "colors = ['lightcoral', 'lightgreen']\n",
    "\n",
    "plt.title('Survival Distribution on Titanic')\n",
    "plt.pie(survival_counts, labels=labels, colors=colors)\n",
    "plt.show()"
   ]
  }
 ],
 "metadata": {
  "kernelspec": {
   "display_name": "base",
   "language": "python",
   "name": "python3"
  },
  "language_info": {
   "codemirror_mode": {
    "name": "ipython",
    "version": 3
   },
   "file_extension": ".py",
   "mimetype": "text/x-python",
   "name": "python",
   "nbconvert_exporter": "python",
   "pygments_lexer": "ipython3",
   "version": "3.9.19"
  }
 },
 "nbformat": 4,
 "nbformat_minor": 5
}
