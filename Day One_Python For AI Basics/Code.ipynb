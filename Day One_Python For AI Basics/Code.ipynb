{
 "cells": [
  {
   "cell_type": "markdown",
   "id": "038899c5",
   "metadata": {},
   "source": [
    "## Python For AI Basics"
   ]
  },
  {
   "cell_type": "markdown",
   "id": "46254af1",
   "metadata": {},
   "source": [
    "### Variables and Data Types"
   ]
  },
  {
   "cell_type": "code",
   "execution_count": 1,
   "id": "f3ded8fd",
   "metadata": {},
   "outputs": [
    {
     "name": "stdout",
     "output_type": "stream",
     "text": [
      "<class 'int'>\n",
      "<class 'float'>\n",
      "<class 'str'>\n",
      "<class 'bool'>\n"
     ]
    }
   ],
   "source": [
    "# Integer (int)\n",
    "x = 5\n",
    "\n",
    "# Float (decimal number)\n",
    "y = 2.5\n",
    "\n",
    "# String (text)\n",
    "name = \"Vivian\"\n",
    "\n",
    "# Boolean (True or False)\n",
    "is_student = True\n",
    "\n",
    "# Check their types\n",
    "print(type(x))\n",
    "print(type(y))\n",
    "print(type(name))\n",
    "print(type(is_student))"
   ]
  },
  {
   "cell_type": "markdown",
   "id": "f94dec75",
   "metadata": {},
   "source": [
    "### Operators \n",
    "[ + : Addition, - : Subtraction, * : Multiplication, / : Division, // : Floor division (removes decimal), ** : Exponent, % : Modulus (remainder) ]"
   ]
  },
  {
   "cell_type": "code",
   "execution_count": 2,
   "id": "884f1d41",
   "metadata": {},
   "outputs": [
    {
     "name": "stdout",
     "output_type": "stream",
     "text": [
      "Sum: 7.5\n",
      "Product: 12.5\n",
      "Division (//): 2\n",
      "Power: 25\n",
      "Modulus: 1\n"
     ]
    }
   ],
   "source": [
    "sum_result = x + y\n",
    "product_result = x * y\n",
    "division_result = x // 2\n",
    "power_result = x ** 2\n",
    "mod_result = x % 2\n",
    "\n",
    "print(\"Sum:\", sum_result)\n",
    "print(\"Product:\", product_result)\n",
    "print(\"Division (//):\", division_result)\n",
    "print(\"Power:\", power_result)\n",
    "print(\"Modulus:\", mod_result)"
   ]
  },
  {
   "cell_type": "markdown",
   "id": "adf0cfb6",
   "metadata": {},
   "source": [
    "Control Flow & Loops\n",
    "### 1. Control Flow - If, elif, else. \n",
    "---\n",
    "Digunakan untuk mengambil keputusan berdasarkan kondisi tertentu."
   ]
  },
  {
   "cell_type": "code",
   "execution_count": null,
   "id": "664e5906",
   "metadata": {},
   "outputs": [
    {
     "name": "stdout",
     "output_type": "stream",
     "text": [
      "5 is greater than 3\n"
     ]
    }
   ],
   "source": [
    "x = 5\n",
    "y = 3\n",
    "\n",
    "# Contoh if-else\n",
    "if x > y: # Mengecek kondisi pertama\n",
    "    print(f\"{x} is greater than {y}\")\n",
    "elif x == y: # Mengecek kondisi lain jika sebelumnya False\n",
    "    print(f\"{x} is equal to {y}\")\n",
    "else: # Dieksekusi jika semua kondisi sebelumnya False\n",
    "    print(f\"{x} is less than {y}\")"
   ]
  },
  {
   "cell_type": "markdown",
   "id": "bb144339",
   "metadata": {},
   "source": [
    "### 2. For Loop \n",
    "---\n",
    "digunakan untuk mengulangi suatu proses berdasarkan urutan tertentu, misalnya range, list, dsb."
   ]
  },
  {
   "cell_type": "code",
   "execution_count": 11,
   "id": "3cdde296",
   "metadata": {},
   "outputs": [
    {
     "name": "stdout",
     "output_type": "stream",
     "text": [
      "0\n",
      "1\n",
      "2\n",
      "3\n",
      "4\n",
      "\n",
      " I like apple\n",
      "\n",
      " I like banana\n",
      "\n",
      " I like cherry\n"
     ]
    }
   ],
   "source": [
    "# Mengulang angka dari 0 sampai 4 (5 tidak ikut)\n",
    "for i in range(5):\n",
    "    print(i)\n",
    "    \n",
    "fruits = ['apple', 'banana', 'cherry']\n",
    "\n",
    "for fruit in fruits:\n",
    "    print(f\"\\n I like {fruit}\")"
   ]
  },
  {
   "cell_type": "markdown",
   "id": "9b8ce90a",
   "metadata": {},
   "source": [
    "### 3. Looping – while loop\n",
    "---\n",
    "akan terus mengulang selama kondisinya benar (True)."
   ]
  },
  {
   "cell_type": "code",
   "execution_count": 12,
   "id": "badf0b4f",
   "metadata": {},
   "outputs": [
    {
     "name": "stdout",
     "output_type": "stream",
     "text": [
      "4\n",
      "5\n",
      "6\n",
      "7\n",
      "I am out\n"
     ]
    }
   ],
   "source": [
    "j = 4\n",
    "while j < 8:\n",
    "    print(j)\n",
    "    j += 1  # increment: tambah 1 setiap loop\n",
    "\n",
    "print(\"I am out\")  # dicetak setelah kondisi tidak terpenuhi"
   ]
  },
  {
   "cell_type": "markdown",
   "id": "8bc49390",
   "metadata": {},
   "source": [
    "### 4. Break, continue, dan pass dalam loop\n",
    "---\n",
    "break → menghentikan loop ,  continue → loncati ke iterasi berikutnya,  pass → placeholder (tidak melakukan apa-apa)"
   ]
  },
  {
   "cell_type": "code",
   "execution_count": 13,
   "id": "d8efbfbc",
   "metadata": {},
   "outputs": [
    {
     "name": "stdout",
     "output_type": "stream",
     "text": [
      "0\n",
      "1\n",
      "2\n",
      "3\n",
      "4\n"
     ]
    }
   ],
   "source": [
    "for i in range(10):\n",
    "    if i == 5:\n",
    "        break\n",
    "    print(i)"
   ]
  },
  {
   "cell_type": "code",
   "execution_count": 14,
   "id": "61972ebb",
   "metadata": {},
   "outputs": [
    {
     "name": "stdout",
     "output_type": "stream",
     "text": [
      "0\n",
      "1\n",
      "3\n",
      "4\n"
     ]
    }
   ],
   "source": [
    "for i in range(5):\n",
    "    if i == 2:\n",
    "        continue  # loncati i = 2\n",
    "    print(i)"
   ]
  },
  {
   "cell_type": "code",
   "execution_count": 15,
   "id": "e2ff6445",
   "metadata": {},
   "outputs": [],
   "source": [
    "for i in range(3):\n",
    "    pass  # tidak melakukan apapun, biasanya digunakan saat struktur masih kosong"
   ]
  },
  {
   "cell_type": "markdown",
   "id": "8f2a399f",
   "metadata": {},
   "source": [
    "### Functions \n",
    "Functions help reuse code."
   ]
  },
  {
   "cell_type": "code",
   "execution_count": 3,
   "id": "215aa7c0",
   "metadata": {},
   "outputs": [
    {
     "name": "stdout",
     "output_type": "stream",
     "text": [
      "Hello, Vivian Aranha!\n"
     ]
    }
   ],
   "source": [
    "# Greet a Person\n",
    "def greet(name):\n",
    "    return f\"Hello, {name}!\"\n",
    "\n",
    "# Calling the function\n",
    "print(greet(\"Vivian Aranha\"))"
   ]
  },
  {
   "cell_type": "markdown",
   "id": "f2cc25f9",
   "metadata": {},
   "source": [
    "### Lists \n",
    "ordered, changeable collection"
   ]
  },
  {
   "cell_type": "code",
   "execution_count": 16,
   "id": "63f530ae",
   "metadata": {},
   "outputs": [
    {
     "name": "stdout",
     "output_type": "stream",
     "text": [
      "First number: 1\n",
      "After append: [1, 2, 3, 4, 5, 7]\n",
      "After remove: [1, 2, 4, 5, 7]\n",
      "After pop: [1, 2, 4, 5]\n",
      "First three numbers: [1, 2, 4]\n"
     ]
    }
   ],
   "source": [
    "# List = ordered, changeable collection\n",
    "numbers = [1, 2, 3, 4, 5]\n",
    "\n",
    "# Indexing (starts at 0)\n",
    "print(\"First number:\", numbers[0])\n",
    "\n",
    "# Adding items\n",
    "numbers.append(7)\n",
    "print(\"After append:\", numbers)\n",
    "\n",
    "# Removing items\n",
    "numbers.remove(3)  # remove by value\n",
    "print(\"After remove:\", numbers)\n",
    "\n",
    "# Popping items\n",
    "numbers.pop()  # remove last item\n",
    "print(\"After pop:\", numbers)\n",
    "\n",
    "# Slicing\n",
    "print(\"First three numbers:\", numbers[:3])"
   ]
  },
  {
   "cell_type": "markdown",
   "id": "ff77f3d8",
   "metadata": {},
   "source": [
    "### Dictionaries \n",
    "key-value pairs"
   ]
  },
  {
   "cell_type": "code",
   "execution_count": 17,
   "id": "0f6e50c6",
   "metadata": {},
   "outputs": [
    {
     "name": "stdout",
     "output_type": "stream",
     "text": [
      "Name: Vivian\n",
      "Age: 40\n"
     ]
    }
   ],
   "source": [
    "student = {\n",
    "    \"name\": \"Vivian\",\n",
    "    \"age\": 40,\n",
    "    \"is_student\": True\n",
    "}\n",
    "\n",
    "# Accessing values\n",
    "print(\"Name:\", student[\"name\"])\n",
    "print(\"Age:\", student[\"age\"])"
   ]
  },
  {
   "cell_type": "markdown",
   "id": "af73c923",
   "metadata": {},
   "source": [
    "### Numpy \n",
    "Numerical Python"
   ]
  },
  {
   "cell_type": "code",
   "execution_count": 18,
   "id": "48d6b167",
   "metadata": {},
   "outputs": [
    {
     "name": "stdout",
     "output_type": "stream",
     "text": [
      "Array1: [1 2 3 4 5]\n",
      "Array2: [3 4 5 6 7]\n",
      "Addition: [ 4  6  8 10 12]\n",
      "Matrix * Matrix:\n",
      "[[ 7 10]\n",
      " [15 22]]\n"
     ]
    }
   ],
   "source": [
    "import numpy as np\n",
    "\n",
    "# Creating 1D arrays\n",
    "array1 = np.array([1, 2, 3, 4, 5])\n",
    "array2 = np.array([3, 4, 5, 6, 7])\n",
    "\n",
    "print(\"Array1:\", array1)\n",
    "print(\"Array2:\", array2)\n",
    "\n",
    "# Element-wise addition\n",
    "print(\"Addition:\", array1 + array2)\n",
    "\n",
    "# Matrix (2D array)\n",
    "matrix = np.array([\n",
    "    [1, 2],\n",
    "    [3, 4]\n",
    "])\n",
    "\n",
    "# Matrix multiplication (dot product)\n",
    "print(\"Matrix * Matrix:\")\n",
    "print(np.dot(matrix, matrix))"
   ]
  },
  {
   "cell_type": "markdown",
   "id": "d112134d",
   "metadata": {},
   "source": [
    "###  PANDAS\n",
    "Data Analysis and Manipulation"
   ]
  },
  {
   "cell_type": "code",
   "execution_count": null,
   "id": "b3bd8bc4",
   "metadata": {},
   "outputs": [
    {
     "name": "stdout",
     "output_type": "stream",
     "text": [
      "      Name  Age         City\n",
      "0    Alice   18     New York\n",
      "1      Bob   25  Los Angeles\n",
      "2  Charlie   19      Chicago\n",
      "3    David   16      Houston\n",
      "4      Eve   22      Phoenix\n",
      "\n",
      " Names column:\n",
      "0      Alice\n",
      "1        Bob\n",
      "2    Charlie\n",
      "3      David\n",
      "4        Eve\n",
      "Name: Name, dtype: object\n",
      "\n",
      " Filtered (Age > 18):\n",
      "      Name  Age         City\n",
      "1      Bob   25  Los Angeles\n",
      "2  Charlie   19      Chicago\n",
      "4      Eve   22      Phoenix\n",
      "\n",
      " Descriptive Statistics:\n",
      "             Age\n",
      "count   5.000000\n",
      "mean   20.000000\n",
      "std     3.535534\n",
      "min    16.000000\n",
      "25%    18.000000\n",
      "50%    19.000000\n",
      "75%    22.000000\n",
      "max    25.000000\n"
     ]
    }
   ],
   "source": [
    "import pandas as pd\n",
    "\n",
    "# Read data from Excel\n",
    "data = pd.read_excel(r'DataCoba.xlsx')\n",
    "\n",
    "# Show the first 5 rows\n",
    "print(data.head())\n",
    "\n",
    "# Access specific column - Data Manipulation (cuman ngambil bagian yang diminta)\n",
    "names = data['Name']\n",
    "print(\"\\n Names column:\")\n",
    "print(names)\n",
    "\n",
    "# Filtering data\n",
    "filtered_data = data[data['Age'] > 18]\n",
    "print(\"\\n Filtered (Age > 18):\")\n",
    "print(filtered_data)\n",
    "\n",
    "# Summary statistics\n",
    "print(\"\\n Descriptive Statistics:\")\n",
    "print(data.describe())"
   ]
  },
  {
   "cell_type": "markdown",
   "id": "4c702d0d",
   "metadata": {},
   "source": [
    "### Task 1 : Create a List of Numbers and Print Their Squares"
   ]
  },
  {
   "cell_type": "code",
   "execution_count": 22,
   "id": "b200d8e8",
   "metadata": {},
   "outputs": [],
   "source": [
    "# Reading from a text file\n",
    "with open('numbers.txt', 'r') as file: # r = only read not modified \n",
    "  numbers = file.readlines() #readlines dipakai agar dibaca semua barisnya\n",
    "  \n",
    "# Process: convert each number to integer, square it, and convert back to string\n",
    "squared_numbers = [str(int(num.strip())** 2) + \"\\n\" for num in numbers]\n",
    " \n",
    "# Writing to a new file\n",
    "with open('output.txt', 'w') as file:\n",
    "  file.writelines(squared_numbers)"
   ]
  },
  {
   "cell_type": "markdown",
   "id": "413e4c08",
   "metadata": {},
   "source": [
    "### Task 2 : Reading and Writing Files in Python"
   ]
  },
  {
   "cell_type": "code",
   "execution_count": 23,
   "id": "ecc2e14e",
   "metadata": {},
   "outputs": [
    {
     "name": "stdout",
     "output_type": "stream",
     "text": [
      " Ages column:\n",
      "0    18\n",
      "1    25\n",
      "2    19\n",
      "3    16\n",
      "4    22\n",
      "Name: Age, dtype: int64\n",
      " \n",
      " Ten Years Later \n",
      "0    28\n",
      "1    35\n",
      "2    29\n",
      "3    26\n",
      "4    32\n",
      "Name: Age, dtype: int64\n"
     ]
    }
   ],
   "source": [
    "#Reading from a file using Python’s open() function.\n",
    "data = pd.read_excel('DataCoba.xlsx')\n",
    " \n",
    "#Iterating over file contents\n",
    "age = data['Age']\n",
    "print(\" Ages column:\")\n",
    "print(age)\n",
    " \n",
    "ten_years = age + 10 \n",
    "print(\" \\n Ten Years Later \")\n",
    "print(ten_years)\n",
    " \n",
    "# Menambahkan kolom baru\n",
    "data['Ten Years Later'] = ten_years\n",
    "# print(data)\n",
    " \n",
    "#Writing the processed data to a new file\n",
    "data.to_excel(r'D:\\Work\\AI-UDEMY\\DataCoba_Hasil.xlsx', index=False)"
   ]
  },
  {
   "cell_type": "markdown",
   "id": "10a74b9d",
   "metadata": {},
   "source": [
    "### Task 3 : Working with Lists and Dictionaries"
   ]
  },
  {
   "cell_type": "code",
   "execution_count": 24,
   "id": "e1813f65",
   "metadata": {},
   "outputs": [
    {
     "name": "stdout",
     "output_type": "stream",
     "text": [
      "Umur Dinda adalah 20\n"
     ]
    }
   ],
   "source": [
    "#Create a list of 5 students’ names and their ages.\n",
    "students_name = [\"Dinda\", \"Amanda\", \"Sharon\", \"Joshua\", \"Maula\"]\n",
    " \n",
    "#Use a dictionary to store and access the students’ ages.\n",
    "student_age = {\n",
    "  \"Dinda\" : 20,\n",
    "  \"Amanda\" : 18,\n",
    "  \"Sharon\" : 14,\n",
    "  \"Joshua\" : 15,\n",
    "  \"Maula\" : 20\n",
    "}\n",
    " \n",
    "#Iterate through the dictionary and print each student's name along with their age\n",
    "print(\"Umur Dinda adalah\", student_age['Dinda'])"
   ]
  }
 ],
 "metadata": {
  "kernelspec": {
   "display_name": "base",
   "language": "python",
   "name": "python3"
  },
  "language_info": {
   "codemirror_mode": {
    "name": "ipython",
    "version": 3
   },
   "file_extension": ".py",
   "mimetype": "text/x-python",
   "name": "python",
   "nbconvert_exporter": "python",
   "pygments_lexer": "ipython3",
   "version": "3.9.19"
  }
 },
 "nbformat": 4,
 "nbformat_minor": 5
}
