{
 "cells": [
  {
   "cell_type": "code",
   "execution_count": 7,
   "id": "f3ded8fd",
   "metadata": {},
   "outputs": [
    {
     "name": "stdout",
     "output_type": "stream",
     "text": [
      "25\n",
      "7.5\n"
     ]
    }
   ],
   "source": [
    "#variable and Data types \n",
    "\n",
    "x = 5 \n",
    "y = 2.5 \n",
    "name = \"Vivian\" #string\n",
    "is_student = True #type boolean - value true/false \n",
    "\n",
    "#Operators +, -, *, // (division), ** (eksponen), % (modulus)\n",
    "\n",
    "sum = x * y\n",
    "product = x + y\n",
    "power = x ** 2 \n",
    "\n",
    "print(power)\n",
    "print(product)\n",
    "print(sum)"
   ]
  },
  {
   "cell_type": "code",
   "execution_count": 15,
   "id": "20cb8c87",
   "metadata": {},
   "outputs": [
    {
     "name": "stdout",
     "output_type": "stream",
     "text": [
      "5 is greater than 2.5\n",
      "0\n",
      "1\n",
      "2\n",
      "3\n",
      "4\n",
      "4\n",
      "5\n",
      "6\n",
      "7\n",
      "I am out\n"
     ]
    }
   ],
   "source": [
    "# Control Flow\n",
    "if x > y:\n",
    "    print(f\"{x} is greater than {y}\")\n",
    "else:\n",
    "     print(f\"{x} is less than or equal to {y}\")\n",
    "        \n",
    "#for Loop \n",
    "for i in range(5): \n",
    "    print(i) #loop trough angka 0 ke 5 tapi 5 nya gaikut\n",
    "\n",
    "#while Loop\n",
    "j = 4\n",
    "while j<8:\n",
    "    print(j)\n",
    "    j += 1 #kalau j udah lebih dari atau sama dengan 5 berarti berhenti print \n",
    "print(\"I am out\")"
   ]
  },
  {
   "cell_type": "code",
   "execution_count": 17,
   "id": "9d8d2cc3",
   "metadata": {},
   "outputs": [
    {
     "name": "stdout",
     "output_type": "stream",
     "text": [
      "Helo, Vivian Aranha\n"
     ]
    }
   ],
   "source": [
    "#Function (gabakalan kepakai kalau tidak dipanggil)\n",
    "\n",
    "def greet(name):\n",
    "    return f\"Helo, {name}\"\n",
    "\n",
    "print(greet(\"Vivian Aranha\"))\n",
    "    "
   ]
  },
  {
   "cell_type": "code",
   "execution_count": 20,
   "id": "20084cc3",
   "metadata": {},
   "outputs": [
    {
     "name": "stdout",
     "output_type": "stream",
     "text": [
      "1\n",
      "[1, 2, 3, 4, 5, 7]\n"
     ]
    }
   ],
   "source": [
    "# Lists \n",
    "\n",
    "numbers = [1, 2, 3, 4, 5]\n",
    "print(numbers[0]) #0 is the first item on the list dan lanjut selanjutnya \n",
    "\n",
    "     # append, remove, pop, slice \n",
    "numbers.append(7)\n",
    "print(numbers)"
   ]
  },
  {
   "cell_type": "code",
   "execution_count": 22,
   "id": "de704842",
   "metadata": {},
   "outputs": [
    {
     "name": "stdout",
     "output_type": "stream",
     "text": [
      "40\n",
      "Vivian\n"
     ]
    }
   ],
   "source": [
    "# Dictionaries \n",
    "\n",
    "student = {\"name\" : \"Vivian\", \"age\" : 40, \"is_student\" : True}\n",
    "print(student['age'])\n",
    "print(student['name'])"
   ]
  },
  {
   "cell_type": "code",
   "execution_count": 26,
   "id": "48d6b167",
   "metadata": {},
   "outputs": [
    {
     "name": "stdout",
     "output_type": "stream",
     "text": [
      "[1 2 3 4 5]\n"
     ]
    }
   ],
   "source": [
    "# numpy - for numbers \n",
    "\n",
    "# Creating Array \n",
    "import numpy as np \n",
    "\n",
    "array = np.array([1,2,3,4,5])\n",
    "print(array)"
   ]
  },
  {
   "cell_type": "code",
   "execution_count": 27,
   "id": "af782f4c",
   "metadata": {},
   "outputs": [
    {
     "name": "stdout",
     "output_type": "stream",
     "text": [
      "[ 4  6  8 10 12]\n"
     ]
    }
   ],
   "source": [
    "array2 = np.array([3,4,5,6,7])\n",
    "print(array + array2)"
   ]
  },
  {
   "cell_type": "code",
   "execution_count": 31,
   "id": "bc4688e2",
   "metadata": {},
   "outputs": [
    {
     "name": "stdout",
     "output_type": "stream",
     "text": [
      "[[ 7 10]\n",
      " [15 22]]\n"
     ]
    }
   ],
   "source": [
    "#buat matrix \n",
    "matrix = np.array([[1,2],\n",
    "                  [3,4]])\n",
    "print(np.dot(matrix,matrix)) #ngasi hasil matrix kali matrix"
   ]
  },
  {
   "cell_type": "code",
   "execution_count": 1,
   "id": "536a33ba",
   "metadata": {},
   "outputs": [
    {
     "name": "stdout",
     "output_type": "stream",
     "text": [
      "      Name  Age         City\n",
      "0    Alice   18     New York\n",
      "1      Bob   25  Los Angeles\n",
      "2  Charlie   19      Chicago\n",
      "3    David   16      Houston\n",
      "4      Eve   22      Phoenix\n"
     ]
    }
   ],
   "source": [
    "# intro to pandas - use for data manipulation and data structure\n",
    "\n",
    "#loading and read data\n",
    "import pandas as pd \n",
    "\n",
    "data = pd.read_excel(r\"C:\\Users\\ASUS\\Downloads\\DataCoba.xlsx\")\n",
    "\n",
    "print(data.head())"
   ]
  },
  {
   "cell_type": "code",
   "execution_count": 3,
   "id": "e93592dd",
   "metadata": {},
   "outputs": [
    {
     "name": "stdout",
     "output_type": "stream",
     "text": [
      "0      Alice\n",
      "1        Bob\n",
      "2    Charlie\n",
      "3      David\n",
      "4        Eve\n",
      "Name: Name, dtype: object\n"
     ]
    }
   ],
   "source": [
    "# data manipulation - cuman ngambil bagian yang diminta\n",
    "\n",
    "name = data['Name']\n",
    "print(name)"
   ]
  },
  {
   "cell_type": "code",
   "execution_count": 5,
   "id": "bb6d93b4",
   "metadata": {},
   "outputs": [
    {
     "name": "stdout",
     "output_type": "stream",
     "text": [
      "      Name  Age         City\n",
      "1      Bob   25  Los Angeles\n",
      "2  Charlie   19      Chicago\n",
      "4      Eve   22      Phoenix\n"
     ]
    }
   ],
   "source": [
    "filtered_Data = data[data['Age'] > 18]\n",
    "print(filtered_Data)"
   ]
  },
  {
   "cell_type": "code",
   "execution_count": 6,
   "id": "7fa75f42",
   "metadata": {},
   "outputs": [
    {
     "name": "stdout",
     "output_type": "stream",
     "text": [
      "             Age\n",
      "count   5.000000\n",
      "mean   20.000000\n",
      "std     3.535534\n",
      "min    16.000000\n",
      "25%    18.000000\n",
      "50%    19.000000\n",
      "75%    22.000000\n",
      "max    25.000000\n"
     ]
    }
   ],
   "source": [
    "print(data.describe())\n",
    "#count - ada berapa banyak data "
   ]
  },
  {
   "cell_type": "code",
   "execution_count": null,
   "id": "b200d8e8",
   "metadata": {},
   "outputs": [],
   "source": [
    "# task 1 \n",
    "\n"
   ]
  }
 ],
 "metadata": {
  "kernelspec": {
   "display_name": "Python 3 (ipykernel)",
   "language": "python",
   "name": "python3"
  },
  "language_info": {
   "codemirror_mode": {
    "name": "ipython",
    "version": 3
   },
   "file_extension": ".py",
   "mimetype": "text/x-python",
   "name": "python",
   "nbconvert_exporter": "python",
   "pygments_lexer": "ipython3",
   "version": "3.9.19"
  }
 },
 "nbformat": 4,
 "nbformat_minor": 5
}
